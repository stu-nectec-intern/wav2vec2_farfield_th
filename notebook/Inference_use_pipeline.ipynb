{
  "cells": [
    {
      "cell_type": "code",
      "execution_count": null,
      "metadata": {
        "colab": {
          "base_uri": "https://localhost:8080/"
        },
        "id": "GyEtAqWbFjA1",
        "outputId": "3bfd5ad0-0ef1-4777-a317-46195b253e51"
      },
      "outputs": [
        {
          "name": "stdout",
          "output_type": "stream",
          "text": [
            "\u001b[2K     \u001b[90m━━━━━━━━━━━━━━━━━━━━━━━━━━━━━━━━━━━━━━━━\u001b[0m \u001b[32m7.2/7.2 MB\u001b[0m \u001b[31m79.8 MB/s\u001b[0m eta \u001b[36m0:00:00\u001b[0m\n",
            "\u001b[2K     \u001b[90m━━━━━━━━━━━━━━━━━━━━━━━━━━━━━━━━━━━━━━\u001b[0m \u001b[32m268.5/268.5 kB\u001b[0m \u001b[31m35.4 MB/s\u001b[0m eta \u001b[36m0:00:00\u001b[0m\n",
            "\u001b[2K     \u001b[90m━━━━━━━━━━━━━━━━━━━━━━━━━━━━━━━━━━━━━━━━\u001b[0m \u001b[32m7.8/7.8 MB\u001b[0m \u001b[31m126.4 MB/s\u001b[0m eta \u001b[36m0:00:00\u001b[0m\n",
            "\u001b[2K     \u001b[90m━━━━━━━━━━━━━━━━━━━━━━━━━━━━━━━━━━━━━━━━\u001b[0m \u001b[32m1.3/1.3 MB\u001b[0m \u001b[31m87.2 MB/s\u001b[0m eta \u001b[36m0:00:00\u001b[0m\n",
            "\u001b[?25h"
          ]
        }
      ],
      "source": [
        "!pip install -qq transformers"
      ]
    },
    {
      "cell_type": "markdown",
      "metadata": {
        "id": "qYcnzCnqrRBD"
      },
      "source": [
        "# dataset for transcribe"
      ]
    },
    {
      "cell_type": "code",
      "execution_count": null,
      "metadata": {
        "colab": {
          "base_uri": "https://localhost:8080/"
        },
        "id": "LCOpz-L0bhCO",
        "outputId": "5da17cc1-96a0-48ef-cf5a-21b1afd87faf"
      },
      "outputs": [
        {
          "name": "stdout",
          "output_type": "stream",
          "text": [
            "\u001b[?25l     \u001b[90m━━━━━━━━━━━━━━━━━━━━━━━━━━━━━━━━━━━━━━━━\u001b[0m \u001b[32m0.0/486.2 kB\u001b[0m \u001b[31m?\u001b[0m eta \u001b[36m-:--:--\u001b[0m\r\u001b[2K     \u001b[90m━━━━━━━━━━━━━━━━━━━━━━━━━━━━━━━━━━━━━━\u001b[0m \u001b[32m486.2/486.2 kB\u001b[0m \u001b[31m22.5 MB/s\u001b[0m eta \u001b[36m0:00:00\u001b[0m\n",
            "\u001b[2K     \u001b[90m━━━━━━━━━━━━━━━━━━━━━━━━━━━━━━━━━━━━━━\u001b[0m \u001b[32m110.5/110.5 kB\u001b[0m \u001b[31m17.4 MB/s\u001b[0m eta \u001b[36m0:00:00\u001b[0m\n",
            "\u001b[2K     \u001b[90m━━━━━━━━━━━━━━━━━━━━━━━━━━━━━━━━━━━━━━\u001b[0m \u001b[32m212.5/212.5 kB\u001b[0m \u001b[31m27.5 MB/s\u001b[0m eta \u001b[36m0:00:00\u001b[0m\n",
            "\u001b[2K     \u001b[90m━━━━━━━━━━━━━━━━━━━━━━━━━━━━━━━━━━━━━━\u001b[0m \u001b[32m134.3/134.3 kB\u001b[0m \u001b[31m13.3 MB/s\u001b[0m eta \u001b[36m0:00:00\u001b[0m\n",
            "\u001b[?25h"
          ]
        }
      ],
      "source": [
        "!pip install -qq --upgrade datasets"
      ]
    },
    {
      "cell_type": "code",
      "execution_count": null,
      "metadata": {
        "id": "ZSVZKcLlawTe"
      },
      "outputs": [],
      "source": [
        "from datasets import load_dataset\n",
        "\n",
        "# If the dataset is gated/private, make sure you have run huggingface-cli login\n",
        "dataset = load_dataset(\"common_voice\",'th',split=\"test\")"
      ]
    },
    {
      "cell_type": "code",
      "execution_count": null,
      "metadata": {
        "id": "SrybelPwiiL6"
      },
      "outputs": [],
      "source": [
        "dataset = dataset.remove_columns([\"accent\", \"age\", \"client_id\", \"down_votes\", \"gender\", \"locale\", \"segment\", \"up_votes\"])"
      ]
    },
    {
      "cell_type": "markdown",
      "metadata": {
        "id": "_2lJdOR2umZJ"
      },
      "source": [
        "# Set up (pipline use gpu)"
      ]
    },
    {
      "cell_type": "code",
      "execution_count": null,
      "metadata": {
        "id": "bR0TDwsTEnHI"
      },
      "outputs": [],
      "source": [
        "import torchaudio\n",
        "from transformers import Wav2Vec2Processor, Wav2Vec2ForCTC, Pipeline\n",
        "import torch\n",
        "\n",
        "class MyWav2Vec2Pipeline(Pipeline):# Chnage to your model on huggingface\n",
        "    def __init__(self, model=\"Pongsathorn/wav2vec2_56000\", processor=\"Pongsathorn/wav2vec2_56000\", device=0):\n",
        "        self.model = Wav2Vec2ForCTC.from_pretrained(model).to(\"cuda\" if torch.cuda.is_available() else \"cpu\")\n",
        "        self.processor = Wav2Vec2Processor.from_pretrained(processor)\n",
        "        super().__init__(model=self.model, tokenizer=self.processor, device=device)\n",
        "\n",
        "    def _sanitize_parameters(self, **kwargs):\n",
        "        preprocess_kwargs = {}\n",
        "        return preprocess_kwargs, {}, {}\n",
        "\n",
        "    def preprocess(self, inputs):\n",
        "        waveform, original_sampling_rate = torchaudio.load(inputs)\n",
        "        resampler = torchaudio.transforms.Resample(orig_freq=original_sampling_rate, new_freq=16000)\n",
        "        resampled_array = resampler(waveform).numpy().flatten()\n",
        "\n",
        "        input_values = self.processor(resampled_array, sampling_rate=16_000, return_tensors=\"pt\").input_values\n",
        "        return {\"input_values\": input_values.to(self.device)}\n",
        "\n",
        "    def _forward(self, model_inputs):\n",
        "        logits = self.model(model_inputs[\"input_values\"]).logits\n",
        "        return {\"logits\": logits}\n",
        "\n",
        "    def postprocess(self, model_outputs):\n",
        "        predicted_ids = torch.argmax(model_outputs[\"logits\"], dim=-1)\n",
        "        transcription = self.processor.batch_decode(predicted_ids)[0]\n",
        "        return {\"transcription\": transcription}\n"
      ]
    },
    {
      "cell_type": "code",
      "execution_count": null,
      "metadata": {
        "id": "-aUiY2w9E8n8"
      },
      "outputs": [],
      "source": [
        "from transformers.pipelines import PIPELINE_REGISTRY\n",
        "\n",
        "PIPELINE_REGISTRY.register_pipeline(\n",
        "    \"wav2vec2\",\n",
        "    pipeline_class=MyWav2Vec2Pipeline,\n",
        ")\n"
      ]
    },
    {
      "cell_type": "code",
      "execution_count": null,
      "metadata": {
        "id": "5MmqbRk5E-2Y"
      },
      "outputs": [],
      "source": [
        "my_pipeline = MyWav2Vec2Pipeline()"
      ]
    },
    {
      "cell_type": "code",
      "execution_count": null,
      "metadata": {
        "colab": {
          "base_uri": "https://localhost:8080/"
        },
        "id": "BgpWilADjM0t",
        "outputId": "eeb9ab00-620a-4a01-f10e-549329d3b0cb"
      },
      "outputs": [
        {
          "data": {
            "text/plain": [
              "Dataset({\n",
              "    features: ['path', 'audio', 'sentence'],\n",
              "    num_rows: 2188\n",
              "})"
            ]
          },
          "execution_count": 10,
          "metadata": {},
          "output_type": "execute_result"
        }
      ],
      "source": [
        "dataset"
      ]
    },
    {
      "cell_type": "code",
      "execution_count": null,
      "metadata": {
        "colab": {
          "base_uri": "https://localhost:8080/"
        },
        "id": "D1c6OpOHjfr3",
        "outputId": "9ea1d6bc-4aa6-4575-d0e6-8c707e8c8599"
      },
      "outputs": [
        {
          "name": "stderr",
          "output_type": "stream",
          "text": [
            "  0%|          | 10/2188 [00:16<15:21,  2.36it/s]/usr/local/lib/python3.10/dist-packages/transformers/pipelines/base.py:1081: UserWarning: You seem to be using the pipelines sequentially on GPU. In order to maximize efficiency please use a dataset\n",
            "  warnings.warn(\n",
            "100%|██████████| 2188/2188 [03:06<00:00, 11.72it/s]\n"
          ]
        }
      ],
      "source": [
        "from tqdm import tqdm\n",
        "\n",
        "transcriptions = []\n",
        "\n",
        "# Moving pipeline computations to GPU if available\n",
        "device = torch.device(\"cuda\" if torch.cuda.is_available() else \"cpu\")\n",
        "my_pipeline.model.to(device)\n",
        "\n",
        "for idx in tqdm(range(len(dataset))):\n",
        "    audio_path = dataset[idx]['path']\n",
        "    try:\n",
        "        # You should move your inputs to the same device as your model\n",
        "        result = my_pipeline(audio_path)\n",
        "        transcriptions.append(result['transcription'])\n",
        "    except Exception as e:\n",
        "        print(f\"Error processing audio file {audio_path}: {str(e)}\")\n",
        "        transcriptions.append(None)  # or some error value\n",
        "\n"
      ]
    },
    {
      "cell_type": "code",
      "execution_count": null,
      "metadata": {
        "colab": {
          "base_uri": "https://localhost:8080/",
          "height": 36
        },
        "id": "89Etx4F_oJnE",
        "outputId": "a3c5bc38-0951-46a5-d035-93d88f9720ce"
      },
      "outputs": [
        {
          "data": {
            "application/vnd.google.colaboratory.intrinsic+json": {
              "type": "string"
            },
            "text/plain": [
              "'เรา เริ่มต้น ด้วย วิธี นี้'"
            ]
          },
          "execution_count": 12,
          "metadata": {},
          "output_type": "execute_result"
        }
      ],
      "source": [
        "transcriptions[0]"
      ]
    },
    {
      "cell_type": "code",
      "execution_count": null,
      "metadata": {
        "id": "iB2hS80SqSV5"
      },
      "outputs": [],
      "source": [
        "import pandas as pd"
      ]
    },
    {
      "cell_type": "code",
      "execution_count": null,
      "metadata": {
        "id": "AvYh1nN0qPId"
      },
      "outputs": [],
      "source": [
        "df = pd.DataFrame({\n",
        "    'transcriptions': transcriptions\n",
        "})"
      ]
    },
    {
      "cell_type": "code",
      "execution_count": null,
      "metadata": {
        "colab": {
          "base_uri": "https://localhost:8080/",
          "height": 423
        },
        "id": "3ecx8YfNqY5Z",
        "outputId": "f81b889b-b603-4f28-915e-ca74942780a7"
      },
      "outputs": [
        {
          "data": {
            "text/html": [
              "\n",
              "  <div id=\"df-a33ae82f-3fba-4deb-b871-3c526f6516ee\">\n",
              "    <div class=\"colab-df-container\">\n",
              "      <div>\n",
              "<style scoped>\n",
              "    .dataframe tbody tr th:only-of-type {\n",
              "        vertical-align: middle;\n",
              "    }\n",
              "\n",
              "    .dataframe tbody tr th {\n",
              "        vertical-align: top;\n",
              "    }\n",
              "\n",
              "    .dataframe thead th {\n",
              "        text-align: right;\n",
              "    }\n",
              "</style>\n",
              "<table border=\"1\" class=\"dataframe\">\n",
              "  <thead>\n",
              "    <tr style=\"text-align: right;\">\n",
              "      <th></th>\n",
              "      <th>transcriptions</th>\n",
              "    </tr>\n",
              "  </thead>\n",
              "  <tbody>\n",
              "    <tr>\n",
              "      <th>0</th>\n",
              "      <td>เรา เริ่มต้น ด้วย วิธี นี้</td>\n",
              "    </tr>\n",
              "    <tr>\n",
              "      <th>1</th>\n",
              "      <td>ส่ง ให้ ตรง นี้ แหละ โดโด้ บอก</td>\n",
              "    </tr>\n",
              "    <tr>\n",
              "      <th>2</th>\n",
              "      <td>หันทาง ที่ ดี ที่สุด ไป สู่ ความ มุ่งหวัง ของ ...</td>\n",
              "    </tr>\n",
              "    <tr>\n",
              "      <th>3</th>\n",
              "      <td>คุณค่ง ว่าง มาก เลย สิ นะ</td>\n",
              "    </tr>\n",
              "    <tr>\n",
              "      <th>4</th>\n",
              "      <td>พรุ่ง นี้ เขา จะ มา ทำ ถนน หน้า บ้าน นะ  อาจ จ...</td>\n",
              "    </tr>\n",
              "    <tr>\n",
              "      <th>...</th>\n",
              "      <td>...</td>\n",
              "    </tr>\n",
              "    <tr>\n",
              "      <th>2183</th>\n",
              "      <td>แอนดไผ่ ดิน เคย เป็น ที่ นิโยอ ตั้น มาก  สำหรั...</td>\n",
              "    </tr>\n",
              "    <tr>\n",
              "      <th>2184</th>\n",
              "      <td>แก้วแตก และ คลองเหล ใน นั้น หก</td>\n",
              "    </tr>\n",
              "    <tr>\n",
              "      <th>2185</th>\n",
              "      <td>คา หนุ่ม เงย น่า จัด หนังสือ เมื่อ เห็น ว่า ไม...</td>\n",
              "    </tr>\n",
              "    <tr>\n",
              "      <th>2186</th>\n",
              "      <td>ฉัน สามารถ ทำ อไร ให้ คุณ ได้ บ้าง</td>\n",
              "    </tr>\n",
              "    <tr>\n",
              "      <th>2187</th>\n",
              "      <td>ห้อง ทด ลอง นี้ คือ ห้อง ที่ สร้อย ถูก เก็บ ไว้</td>\n",
              "    </tr>\n",
              "  </tbody>\n",
              "</table>\n",
              "<p>2188 rows × 1 columns</p>\n",
              "</div>\n",
              "      <button class=\"colab-df-convert\" onclick=\"convertToInteractive('df-a33ae82f-3fba-4deb-b871-3c526f6516ee')\"\n",
              "              title=\"Convert this dataframe to an interactive table.\"\n",
              "              style=\"display:none;\">\n",
              "        \n",
              "  <svg xmlns=\"http://www.w3.org/2000/svg\" height=\"24px\"viewBox=\"0 0 24 24\"\n",
              "       width=\"24px\">\n",
              "    <path d=\"M0 0h24v24H0V0z\" fill=\"none\"/>\n",
              "    <path d=\"M18.56 5.44l.94 2.06.94-2.06 2.06-.94-2.06-.94-.94-2.06-.94 2.06-2.06.94zm-11 1L8.5 8.5l.94-2.06 2.06-.94-2.06-.94L8.5 2.5l-.94 2.06-2.06.94zm10 10l.94 2.06.94-2.06 2.06-.94-2.06-.94-.94-2.06-.94 2.06-2.06.94z\"/><path d=\"M17.41 7.96l-1.37-1.37c-.4-.4-.92-.59-1.43-.59-.52 0-1.04.2-1.43.59L10.3 9.45l-7.72 7.72c-.78.78-.78 2.05 0 2.83L4 21.41c.39.39.9.59 1.41.59.51 0 1.02-.2 1.41-.59l7.78-7.78 2.81-2.81c.8-.78.8-2.07 0-2.86zM5.41 20L4 18.59l7.72-7.72 1.47 1.35L5.41 20z\"/>\n",
              "  </svg>\n",
              "      </button>\n",
              "      \n",
              "  <style>\n",
              "    .colab-df-container {\n",
              "      display:flex;\n",
              "      flex-wrap:wrap;\n",
              "      gap: 12px;\n",
              "    }\n",
              "\n",
              "    .colab-df-convert {\n",
              "      background-color: #E8F0FE;\n",
              "      border: none;\n",
              "      border-radius: 50%;\n",
              "      cursor: pointer;\n",
              "      display: none;\n",
              "      fill: #1967D2;\n",
              "      height: 32px;\n",
              "      padding: 0 0 0 0;\n",
              "      width: 32px;\n",
              "    }\n",
              "\n",
              "    .colab-df-convert:hover {\n",
              "      background-color: #E2EBFA;\n",
              "      box-shadow: 0px 1px 2px rgba(60, 64, 67, 0.3), 0px 1px 3px 1px rgba(60, 64, 67, 0.15);\n",
              "      fill: #174EA6;\n",
              "    }\n",
              "\n",
              "    [theme=dark] .colab-df-convert {\n",
              "      background-color: #3B4455;\n",
              "      fill: #D2E3FC;\n",
              "    }\n",
              "\n",
              "    [theme=dark] .colab-df-convert:hover {\n",
              "      background-color: #434B5C;\n",
              "      box-shadow: 0px 1px 3px 1px rgba(0, 0, 0, 0.15);\n",
              "      filter: drop-shadow(0px 1px 2px rgba(0, 0, 0, 0.3));\n",
              "      fill: #FFFFFF;\n",
              "    }\n",
              "  </style>\n",
              "\n",
              "      <script>\n",
              "        const buttonEl =\n",
              "          document.querySelector('#df-a33ae82f-3fba-4deb-b871-3c526f6516ee button.colab-df-convert');\n",
              "        buttonEl.style.display =\n",
              "          google.colab.kernel.accessAllowed ? 'block' : 'none';\n",
              "\n",
              "        async function convertToInteractive(key) {\n",
              "          const element = document.querySelector('#df-a33ae82f-3fba-4deb-b871-3c526f6516ee');\n",
              "          const dataTable =\n",
              "            await google.colab.kernel.invokeFunction('convertToInteractive',\n",
              "                                                     [key], {});\n",
              "          if (!dataTable) return;\n",
              "\n",
              "          const docLinkHtml = 'Like what you see? Visit the ' +\n",
              "            '<a target=\"_blank\" href=https://colab.research.google.com/notebooks/data_table.ipynb>data table notebook</a>'\n",
              "            + ' to learn more about interactive tables.';\n",
              "          element.innerHTML = '';\n",
              "          dataTable['output_type'] = 'display_data';\n",
              "          await google.colab.output.renderOutput(dataTable, element);\n",
              "          const docLink = document.createElement('div');\n",
              "          docLink.innerHTML = docLinkHtml;\n",
              "          element.appendChild(docLink);\n",
              "        }\n",
              "      </script>\n",
              "    </div>\n",
              "  </div>\n",
              "  "
            ],
            "text/plain": [
              "                                         transcriptions\n",
              "0                            เรา เริ่มต้น ด้วย วิธี นี้\n",
              "1                        ส่ง ให้ ตรง นี้ แหละ โดโด้ บอก\n",
              "2     หันทาง ที่ ดี ที่สุด ไป สู่ ความ มุ่งหวัง ของ ...\n",
              "3                             คุณค่ง ว่าง มาก เลย สิ นะ\n",
              "4     พรุ่ง นี้ เขา จะ มา ทำ ถนน หน้า บ้าน นะ  อาจ จ...\n",
              "...                                                 ...\n",
              "2183  แอนดไผ่ ดิน เคย เป็น ที่ นิโยอ ตั้น มาก  สำหรั...\n",
              "2184                     แก้วแตก และ คลองเหล ใน นั้น หก\n",
              "2185  คา หนุ่ม เงย น่า จัด หนังสือ เมื่อ เห็น ว่า ไม...\n",
              "2186                 ฉัน สามารถ ทำ อไร ให้ คุณ ได้ บ้าง\n",
              "2187    ห้อง ทด ลอง นี้ คือ ห้อง ที่ สร้อย ถูก เก็บ ไว้\n",
              "\n",
              "[2188 rows x 1 columns]"
            ]
          },
          "execution_count": 15,
          "metadata": {},
          "output_type": "execute_result"
        }
      ],
      "source": [
        "df"
      ]
    },
    {
      "cell_type": "code",
      "execution_count": null,
      "metadata": {
        "id": "ATckvEGzqWvm"
      },
      "outputs": [],
      "source": [
        "df.to_csv('transcribe.csv')"
      ]
    },
    {
      "cell_type": "markdown",
      "metadata": {
        "id": "-AWVSRTwd7Wj"
      },
      "source": [
        "# prepare text"
      ]
    },
    {
      "cell_type": "code",
      "execution_count": null,
      "metadata": {
        "id": "a_T-J1wdq04Z"
      },
      "outputs": [],
      "source": [
        "import pandas as pd\n",
        "\n",
        "df = pd.read_csv('/content/transcribe.csv')"
      ]
    },
    {
      "cell_type": "code",
      "execution_count": null,
      "metadata": {
        "colab": {
          "base_uri": "https://localhost:8080/"
        },
        "id": "lmR5GQwjoNab",
        "outputId": "5969d80e-924d-4d83-8d91-d1461db653d9"
      },
      "outputs": [
        {
          "name": "stdout",
          "output_type": "stream",
          "text": [
            "\u001b[2K     \u001b[90m━━━━━━━━━━━━━━━━━━━━━━━━━━━━━━━━━━━━━━━━\u001b[0m \u001b[32m13.4/13.4 MB\u001b[0m \u001b[31m93.0 MB/s\u001b[0m eta \u001b[36m0:00:00\u001b[0m\n",
            "\u001b[2K     \u001b[90m━━━━━━━━━━━━━━━━━━━━━━━━━━━━━━━━━━━━━━━━\u001b[0m \u001b[32m2.0/2.0 MB\u001b[0m \u001b[31m45.2 MB/s\u001b[0m eta \u001b[36m0:00:00\u001b[0m\n",
            "\u001b[?25h"
          ]
        }
      ],
      "source": [
        "! pip install -qq pythainlp\n",
        "!pip install -qq deepcut"
      ]
    },
    {
      "cell_type": "code",
      "execution_count": null,
      "metadata": {
        "id": "4DCcD8wIdrI5"
      },
      "outputs": [],
      "source": [
        "from pythainlp.tokenize import word_tokenize\n",
        "import re"
      ]
    },
    {
      "cell_type": "code",
      "execution_count": null,
      "metadata": {
        "id": "THFPNHmMciIl"
      },
      "outputs": [],
      "source": [
        "import gc\n",
        "from tqdm.auto import tqdm\n",
        "import pandas as pd\n",
        "\n",
        "def clean_data(data):\n",
        "    pattern = r\"[^ก-๙a-zA-Z0-9\\s]+\"\n",
        "    cleaned_data = re.sub(pattern, '', data)\n",
        "    return cleaned_data\n",
        "\n",
        "def th_words_tokenize(sentence):\n",
        "    sentence = clean_data(sentence)  # apply the cleaning function\n",
        "    tokens = word_tokenize(sentence.replace('เเ', 'แ'), engine=\"deepcut\")\n",
        "    tokens = [tokens[i-1] if token == 'ๆ' and i > 0 else token for i, token in enumerate(tokens)]\n",
        "    return \" \".join(tokens).replace(\"  \", \" \")\n",
        "\n",
        "\n"
      ]
    },
    {
      "cell_type": "code",
      "execution_count": null,
      "metadata": {
        "colab": {
          "base_uri": "https://localhost:8080/",
          "height": 36
        },
        "id": "Y-U-ueEtyCQ7",
        "outputId": "04d285b1-d8ad-431a-8b9b-09b075f2519c"
      },
      "outputs": [
        {
          "data": {
            "application/vnd.google.colaboratory.intrinsic+json": {
              "type": "string"
            },
            "text/plain": [
              "'เราเริ่มต้นด้วยวิธีนี้'"
            ]
          },
          "execution_count": 21,
          "metadata": {},
          "output_type": "execute_result"
        }
      ],
      "source": [
        "dataset['sentence'][0]"
      ]
    },
    {
      "cell_type": "code",
      "execution_count": null,
      "metadata": {
        "id": "SokkEVlDjvAq"
      },
      "outputs": [],
      "source": [
        "from tqdm import tqdm\n",
        "\n",
        "batch_size = 1000\n",
        "preprocessed_dataset = []\n",
        "\n",
        "for i in tqdm(range(0, len(dataset), batch_size)):\n",
        "    # get the current batch\n",
        "    batch = dataset['sentence'][i:i+batch_size]\n",
        "    for data in batch:\n",
        "        # tokenize the sentence\n",
        "        preprocessed_data = th_words_tokenize(data)\n",
        "        preprocessed_dataset.append(preprocessed_data)\n"
      ]
    },
    {
      "cell_type": "markdown",
      "metadata": {
        "id": "hraZ6zrelg1A"
      },
      "source": [
        "# To dataframe"
      ]
    },
    {
      "cell_type": "code",
      "execution_count": null,
      "metadata": {
        "colab": {
          "base_uri": "https://localhost:8080/"
        },
        "id": "Ju4aUTLhzPV4",
        "outputId": "2ed37125-f6fb-4e19-e58a-4e00d5cf1e6c"
      },
      "outputs": [
        {
          "data": {
            "text/plain": [
              "['เรา เริ่มต้น ด้วย วิธี นี้',\n",
              " 'ส่ง ให้ ตรง นี้ แหละ  โดโด้ บอก',\n",
              " 'หนทาง ที่ ดี ที่สุด ไป สู่ ความ มุ่ง หวัง ของ ฉัน คือ อะไร',\n",
              " 'คุณคง ว่าง มาก เลย สิ นะ',\n",
              " 'พรุ่ง นี้ เขา จะ มา ทำ ถนน หน้า บ้าน นะ  อาจ จะ เสียง ดัง หน่อย',\n",
              " 'ฉัน พินิจ ใน จินตนาการ ของ ฉัน',\n",
              " 'เรา มา จาก จังหวัดระยอง',\n",
              " 'เคลวินฟาเรนไฮต์ หรือ เซลเซียส ซึ่ง เป็น หน่วย อุณหภูมิ ที่ ดี ที่สุด',\n",
              " 'การ แข่งขัน เป็น อย่าง ไร บ้าง',\n",
              " 'และ มัน ก็ เป็น ความ จริง']"
            ]
          },
          "execution_count": 23,
          "metadata": {},
          "output_type": "execute_result"
        }
      ],
      "source": [
        "preprocessed_dataset[0:10]"
      ]
    },
    {
      "cell_type": "code",
      "execution_count": null,
      "metadata": {
        "id": "_ER84R_fljI1"
      },
      "outputs": [],
      "source": [
        "tokenized_df = pd.DataFrame({\n",
        "    'tokenized_sentences': [data for data in preprocessed_dataset],\n",
        "})"
      ]
    },
    {
      "cell_type": "code",
      "execution_count": null,
      "metadata": {
        "colab": {
          "base_uri": "https://localhost:8080/",
          "height": 206
        },
        "id": "N82ox1mo5QhC",
        "outputId": "e66cb4aa-8b95-44e8-9e4f-578b4e0679e7"
      },
      "outputs": [
        {
          "data": {
            "text/html": [
              "\n",
              "  <div id=\"df-4c6547f0-3aa7-403b-8043-27445fa00750\">\n",
              "    <div class=\"colab-df-container\">\n",
              "      <div>\n",
              "<style scoped>\n",
              "    .dataframe tbody tr th:only-of-type {\n",
              "        vertical-align: middle;\n",
              "    }\n",
              "\n",
              "    .dataframe tbody tr th {\n",
              "        vertical-align: top;\n",
              "    }\n",
              "\n",
              "    .dataframe thead th {\n",
              "        text-align: right;\n",
              "    }\n",
              "</style>\n",
              "<table border=\"1\" class=\"dataframe\">\n",
              "  <thead>\n",
              "    <tr style=\"text-align: right;\">\n",
              "      <th></th>\n",
              "      <th>tokenized_sentences</th>\n",
              "    </tr>\n",
              "  </thead>\n",
              "  <tbody>\n",
              "    <tr>\n",
              "      <th>0</th>\n",
              "      <td>เรา เริ่มต้น ด้วย วิธี นี้</td>\n",
              "    </tr>\n",
              "    <tr>\n",
              "      <th>1</th>\n",
              "      <td>ส่ง ให้ ตรง นี้ แหละ  โดโด้ บอก</td>\n",
              "    </tr>\n",
              "    <tr>\n",
              "      <th>2</th>\n",
              "      <td>หนทาง ที่ ดี ที่สุด ไป สู่ ความ มุ่ง หวัง ของ ...</td>\n",
              "    </tr>\n",
              "    <tr>\n",
              "      <th>3</th>\n",
              "      <td>คุณคง ว่าง มาก เลย สิ นะ</td>\n",
              "    </tr>\n",
              "    <tr>\n",
              "      <th>4</th>\n",
              "      <td>พรุ่ง นี้ เขา จะ มา ทำ ถนน หน้า บ้าน นะ  อาจ จ...</td>\n",
              "    </tr>\n",
              "  </tbody>\n",
              "</table>\n",
              "</div>\n",
              "      <button class=\"colab-df-convert\" onclick=\"convertToInteractive('df-4c6547f0-3aa7-403b-8043-27445fa00750')\"\n",
              "              title=\"Convert this dataframe to an interactive table.\"\n",
              "              style=\"display:none;\">\n",
              "        \n",
              "  <svg xmlns=\"http://www.w3.org/2000/svg\" height=\"24px\"viewBox=\"0 0 24 24\"\n",
              "       width=\"24px\">\n",
              "    <path d=\"M0 0h24v24H0V0z\" fill=\"none\"/>\n",
              "    <path d=\"M18.56 5.44l.94 2.06.94-2.06 2.06-.94-2.06-.94-.94-2.06-.94 2.06-2.06.94zm-11 1L8.5 8.5l.94-2.06 2.06-.94-2.06-.94L8.5 2.5l-.94 2.06-2.06.94zm10 10l.94 2.06.94-2.06 2.06-.94-2.06-.94-.94-2.06-.94 2.06-2.06.94z\"/><path d=\"M17.41 7.96l-1.37-1.37c-.4-.4-.92-.59-1.43-.59-.52 0-1.04.2-1.43.59L10.3 9.45l-7.72 7.72c-.78.78-.78 2.05 0 2.83L4 21.41c.39.39.9.59 1.41.59.51 0 1.02-.2 1.41-.59l7.78-7.78 2.81-2.81c.8-.78.8-2.07 0-2.86zM5.41 20L4 18.59l7.72-7.72 1.47 1.35L5.41 20z\"/>\n",
              "  </svg>\n",
              "      </button>\n",
              "      \n",
              "  <style>\n",
              "    .colab-df-container {\n",
              "      display:flex;\n",
              "      flex-wrap:wrap;\n",
              "      gap: 12px;\n",
              "    }\n",
              "\n",
              "    .colab-df-convert {\n",
              "      background-color: #E8F0FE;\n",
              "      border: none;\n",
              "      border-radius: 50%;\n",
              "      cursor: pointer;\n",
              "      display: none;\n",
              "      fill: #1967D2;\n",
              "      height: 32px;\n",
              "      padding: 0 0 0 0;\n",
              "      width: 32px;\n",
              "    }\n",
              "\n",
              "    .colab-df-convert:hover {\n",
              "      background-color: #E2EBFA;\n",
              "      box-shadow: 0px 1px 2px rgba(60, 64, 67, 0.3), 0px 1px 3px 1px rgba(60, 64, 67, 0.15);\n",
              "      fill: #174EA6;\n",
              "    }\n",
              "\n",
              "    [theme=dark] .colab-df-convert {\n",
              "      background-color: #3B4455;\n",
              "      fill: #D2E3FC;\n",
              "    }\n",
              "\n",
              "    [theme=dark] .colab-df-convert:hover {\n",
              "      background-color: #434B5C;\n",
              "      box-shadow: 0px 1px 3px 1px rgba(0, 0, 0, 0.15);\n",
              "      filter: drop-shadow(0px 1px 2px rgba(0, 0, 0, 0.3));\n",
              "      fill: #FFFFFF;\n",
              "    }\n",
              "  </style>\n",
              "\n",
              "      <script>\n",
              "        const buttonEl =\n",
              "          document.querySelector('#df-4c6547f0-3aa7-403b-8043-27445fa00750 button.colab-df-convert');\n",
              "        buttonEl.style.display =\n",
              "          google.colab.kernel.accessAllowed ? 'block' : 'none';\n",
              "\n",
              "        async function convertToInteractive(key) {\n",
              "          const element = document.querySelector('#df-4c6547f0-3aa7-403b-8043-27445fa00750');\n",
              "          const dataTable =\n",
              "            await google.colab.kernel.invokeFunction('convertToInteractive',\n",
              "                                                     [key], {});\n",
              "          if (!dataTable) return;\n",
              "\n",
              "          const docLinkHtml = 'Like what you see? Visit the ' +\n",
              "            '<a target=\"_blank\" href=https://colab.research.google.com/notebooks/data_table.ipynb>data table notebook</a>'\n",
              "            + ' to learn more about interactive tables.';\n",
              "          element.innerHTML = '';\n",
              "          dataTable['output_type'] = 'display_data';\n",
              "          await google.colab.output.renderOutput(dataTable, element);\n",
              "          const docLink = document.createElement('div');\n",
              "          docLink.innerHTML = docLinkHtml;\n",
              "          element.appendChild(docLink);\n",
              "        }\n",
              "      </script>\n",
              "    </div>\n",
              "  </div>\n",
              "  "
            ],
            "text/plain": [
              "                                 tokenized_sentences\n",
              "0                         เรา เริ่มต้น ด้วย วิธี นี้\n",
              "1                    ส่ง ให้ ตรง นี้ แหละ  โดโด้ บอก\n",
              "2  หนทาง ที่ ดี ที่สุด ไป สู่ ความ มุ่ง หวัง ของ ...\n",
              "3                           คุณคง ว่าง มาก เลย สิ นะ\n",
              "4  พรุ่ง นี้ เขา จะ มา ทำ ถนน หน้า บ้าน นะ  อาจ จ..."
            ]
          },
          "execution_count": 25,
          "metadata": {},
          "output_type": "execute_result"
        }
      ],
      "source": [
        "tokenized_df.head()"
      ]
    },
    {
      "cell_type": "code",
      "execution_count": null,
      "metadata": {
        "colab": {
          "base_uri": "https://localhost:8080/",
          "height": 206
        },
        "id": "_ecih24drhFf",
        "outputId": "6db8b0da-c217-4fa4-eb27-ffed7569503e"
      },
      "outputs": [
        {
          "data": {
            "text/html": [
              "\n",
              "  <div id=\"df-6b590185-fc4e-4d7f-ba21-08a5d804e79d\">\n",
              "    <div class=\"colab-df-container\">\n",
              "      <div>\n",
              "<style scoped>\n",
              "    .dataframe tbody tr th:only-of-type {\n",
              "        vertical-align: middle;\n",
              "    }\n",
              "\n",
              "    .dataframe tbody tr th {\n",
              "        vertical-align: top;\n",
              "    }\n",
              "\n",
              "    .dataframe thead th {\n",
              "        text-align: right;\n",
              "    }\n",
              "</style>\n",
              "<table border=\"1\" class=\"dataframe\">\n",
              "  <thead>\n",
              "    <tr style=\"text-align: right;\">\n",
              "      <th></th>\n",
              "      <th>Unnamed: 0</th>\n",
              "      <th>transcriptions</th>\n",
              "    </tr>\n",
              "  </thead>\n",
              "  <tbody>\n",
              "    <tr>\n",
              "      <th>0</th>\n",
              "      <td>0</td>\n",
              "      <td>เรา เริ่มต้น ด้วย วิธี นี้</td>\n",
              "    </tr>\n",
              "    <tr>\n",
              "      <th>1</th>\n",
              "      <td>1</td>\n",
              "      <td>ส่ง ให้ ตรง นี้ แหละ โดโด้ บอก</td>\n",
              "    </tr>\n",
              "    <tr>\n",
              "      <th>2</th>\n",
              "      <td>2</td>\n",
              "      <td>หันทาง ที่ ดี ที่สุด ไป สู่ ความ มุ่งหวัง ของ ...</td>\n",
              "    </tr>\n",
              "    <tr>\n",
              "      <th>3</th>\n",
              "      <td>3</td>\n",
              "      <td>คุณค่ง ว่าง มาก เลย สิ นะ</td>\n",
              "    </tr>\n",
              "    <tr>\n",
              "      <th>4</th>\n",
              "      <td>4</td>\n",
              "      <td>พรุ่ง นี้ เขา จะ มา ทำ ถนน หน้า บ้าน นะ  อาจ จ...</td>\n",
              "    </tr>\n",
              "  </tbody>\n",
              "</table>\n",
              "</div>\n",
              "      <button class=\"colab-df-convert\" onclick=\"convertToInteractive('df-6b590185-fc4e-4d7f-ba21-08a5d804e79d')\"\n",
              "              title=\"Convert this dataframe to an interactive table.\"\n",
              "              style=\"display:none;\">\n",
              "        \n",
              "  <svg xmlns=\"http://www.w3.org/2000/svg\" height=\"24px\"viewBox=\"0 0 24 24\"\n",
              "       width=\"24px\">\n",
              "    <path d=\"M0 0h24v24H0V0z\" fill=\"none\"/>\n",
              "    <path d=\"M18.56 5.44l.94 2.06.94-2.06 2.06-.94-2.06-.94-.94-2.06-.94 2.06-2.06.94zm-11 1L8.5 8.5l.94-2.06 2.06-.94-2.06-.94L8.5 2.5l-.94 2.06-2.06.94zm10 10l.94 2.06.94-2.06 2.06-.94-2.06-.94-.94-2.06-.94 2.06-2.06.94z\"/><path d=\"M17.41 7.96l-1.37-1.37c-.4-.4-.92-.59-1.43-.59-.52 0-1.04.2-1.43.59L10.3 9.45l-7.72 7.72c-.78.78-.78 2.05 0 2.83L4 21.41c.39.39.9.59 1.41.59.51 0 1.02-.2 1.41-.59l7.78-7.78 2.81-2.81c.8-.78.8-2.07 0-2.86zM5.41 20L4 18.59l7.72-7.72 1.47 1.35L5.41 20z\"/>\n",
              "  </svg>\n",
              "      </button>\n",
              "      \n",
              "  <style>\n",
              "    .colab-df-container {\n",
              "      display:flex;\n",
              "      flex-wrap:wrap;\n",
              "      gap: 12px;\n",
              "    }\n",
              "\n",
              "    .colab-df-convert {\n",
              "      background-color: #E8F0FE;\n",
              "      border: none;\n",
              "      border-radius: 50%;\n",
              "      cursor: pointer;\n",
              "      display: none;\n",
              "      fill: #1967D2;\n",
              "      height: 32px;\n",
              "      padding: 0 0 0 0;\n",
              "      width: 32px;\n",
              "    }\n",
              "\n",
              "    .colab-df-convert:hover {\n",
              "      background-color: #E2EBFA;\n",
              "      box-shadow: 0px 1px 2px rgba(60, 64, 67, 0.3), 0px 1px 3px 1px rgba(60, 64, 67, 0.15);\n",
              "      fill: #174EA6;\n",
              "    }\n",
              "\n",
              "    [theme=dark] .colab-df-convert {\n",
              "      background-color: #3B4455;\n",
              "      fill: #D2E3FC;\n",
              "    }\n",
              "\n",
              "    [theme=dark] .colab-df-convert:hover {\n",
              "      background-color: #434B5C;\n",
              "      box-shadow: 0px 1px 3px 1px rgba(0, 0, 0, 0.15);\n",
              "      filter: drop-shadow(0px 1px 2px rgba(0, 0, 0, 0.3));\n",
              "      fill: #FFFFFF;\n",
              "    }\n",
              "  </style>\n",
              "\n",
              "      <script>\n",
              "        const buttonEl =\n",
              "          document.querySelector('#df-6b590185-fc4e-4d7f-ba21-08a5d804e79d button.colab-df-convert');\n",
              "        buttonEl.style.display =\n",
              "          google.colab.kernel.accessAllowed ? 'block' : 'none';\n",
              "\n",
              "        async function convertToInteractive(key) {\n",
              "          const element = document.querySelector('#df-6b590185-fc4e-4d7f-ba21-08a5d804e79d');\n",
              "          const dataTable =\n",
              "            await google.colab.kernel.invokeFunction('convertToInteractive',\n",
              "                                                     [key], {});\n",
              "          if (!dataTable) return;\n",
              "\n",
              "          const docLinkHtml = 'Like what you see? Visit the ' +\n",
              "            '<a target=\"_blank\" href=https://colab.research.google.com/notebooks/data_table.ipynb>data table notebook</a>'\n",
              "            + ' to learn more about interactive tables.';\n",
              "          element.innerHTML = '';\n",
              "          dataTable['output_type'] = 'display_data';\n",
              "          await google.colab.output.renderOutput(dataTable, element);\n",
              "          const docLink = document.createElement('div');\n",
              "          docLink.innerHTML = docLinkHtml;\n",
              "          element.appendChild(docLink);\n",
              "        }\n",
              "      </script>\n",
              "    </div>\n",
              "  </div>\n",
              "  "
            ],
            "text/plain": [
              "   Unnamed: 0                                     transcriptions\n",
              "0           0                         เรา เริ่มต้น ด้วย วิธี นี้\n",
              "1           1                     ส่ง ให้ ตรง นี้ แหละ โดโด้ บอก\n",
              "2           2  หันทาง ที่ ดี ที่สุด ไป สู่ ความ มุ่งหวัง ของ ...\n",
              "3           3                          คุณค่ง ว่าง มาก เลย สิ นะ\n",
              "4           4  พรุ่ง นี้ เขา จะ มา ทำ ถนน หน้า บ้าน นะ  อาจ จ..."
            ]
          },
          "execution_count": 26,
          "metadata": {},
          "output_type": "execute_result"
        }
      ],
      "source": [
        "df.head()"
      ]
    },
    {
      "cell_type": "code",
      "execution_count": null,
      "metadata": {
        "id": "xH5Lw0xZ5Sxg"
      },
      "outputs": [],
      "source": [
        "df_eval = pd.concat([tokenized_df, df], axis=1)"
      ]
    },
    {
      "cell_type": "code",
      "execution_count": null,
      "metadata": {
        "colab": {
          "base_uri": "https://localhost:8080/",
          "height": 676
        },
        "id": "hURqt9lf5aFx",
        "outputId": "4a4a400a-d1ee-49dd-fb3f-55713b818ddf"
      },
      "outputs": [
        {
          "data": {
            "text/html": [
              "\n",
              "  <div id=\"df-f0a17e3d-08a7-48c4-938c-5880eda46b11\">\n",
              "    <div class=\"colab-df-container\">\n",
              "      <div>\n",
              "<style scoped>\n",
              "    .dataframe tbody tr th:only-of-type {\n",
              "        vertical-align: middle;\n",
              "    }\n",
              "\n",
              "    .dataframe tbody tr th {\n",
              "        vertical-align: top;\n",
              "    }\n",
              "\n",
              "    .dataframe thead th {\n",
              "        text-align: right;\n",
              "    }\n",
              "</style>\n",
              "<table border=\"1\" class=\"dataframe\">\n",
              "  <thead>\n",
              "    <tr style=\"text-align: right;\">\n",
              "      <th></th>\n",
              "      <th>tokenized_sentences</th>\n",
              "      <th>Unnamed: 0</th>\n",
              "      <th>transcriptions</th>\n",
              "    </tr>\n",
              "  </thead>\n",
              "  <tbody>\n",
              "    <tr>\n",
              "      <th>358</th>\n",
              "      <td>อย่า ทำ เสียง ดัง นะ</td>\n",
              "      <td>358</td>\n",
              "      <td>อย่า ทำ เสียง ดัง นะ</td>\n",
              "    </tr>\n",
              "    <tr>\n",
              "      <th>1618</th>\n",
              "      <td>กระตุก เชือก และ ส่งทอง ออก ไป</td>\n",
              "      <td>1618</td>\n",
              "      <td>กระตุก เชือก และ ส่ง ทอง ออก ไป</td>\n",
              "    </tr>\n",
              "    <tr>\n",
              "      <th>1507</th>\n",
              "      <td>คุณ ต้อง ตอบ ว่า มี ความ สุข ดี</td>\n",
              "      <td>1507</td>\n",
              "      <td>คุณ ต้อง ตอบ ว่า มี ความ สุข ดี</td>\n",
              "    </tr>\n",
              "    <tr>\n",
              "      <th>840</th>\n",
              "      <td>แบบ นี้ จะ ท้อง ไหม</td>\n",
              "      <td>840</td>\n",
              "      <td>แบบ นี้ จะ ท้อง ไหม</td>\n",
              "    </tr>\n",
              "    <tr>\n",
              "      <th>161</th>\n",
              "      <td>แต่ ทรัพยากร ของ ฉัน กำลัง จะ หมด</td>\n",
              "      <td>161</td>\n",
              "      <td>แต่ ทรัพยากร ของ ฉัน กำลัง จะ หมด</td>\n",
              "    </tr>\n",
              "    <tr>\n",
              "      <th>156</th>\n",
              "      <td>ที่ รัก  มัน คือ คำ ถาม ที่ อยู่ ใน ใจ ของ คุณ</td>\n",
              "      <td>156</td>\n",
              "      <td>ที่ รัก  มัน คือ คำ ถาม ที่ อยู่ ใน ใจ ของ คุณ</td>\n",
              "    </tr>\n",
              "    <tr>\n",
              "      <th>464</th>\n",
              "      <td>ฉัน กำลัง มี อาการ บาดเจ็บ ที่ ข้อ ต่อ</td>\n",
              "      <td>464</td>\n",
              "      <td>ฉัน กำลัง มี อาการ บาดเจ็บ ที่ ข้อ ต่อ</td>\n",
              "    </tr>\n",
              "    <tr>\n",
              "      <th>2073</th>\n",
              "      <td>การ บัญชี เป็น ชื่อ ของ อาชีพ สำหรับ นัก บัญชี</td>\n",
              "      <td>2073</td>\n",
              "      <td>การ บัญชี นึ ชื่อ ของ มาชีพ สุบานัก บัญชี</td>\n",
              "    </tr>\n",
              "    <tr>\n",
              "      <th>1982</th>\n",
              "      <td>ป้า ของ ฉัน กำลัง ทำ งาน</td>\n",
              "      <td>1982</td>\n",
              "      <td>ตา ของ ฉัน กำลัง ทำ งาน</td>\n",
              "    </tr>\n",
              "    <tr>\n",
              "      <th>585</th>\n",
              "      <td>เรา จะ ออก นอก เมือง มาก สุด ใน เดือน พฤษภาคม</td>\n",
              "      <td>585</td>\n",
              "      <td>เรา จะ ออก นอก เมือง มาก สุด ใน เดือน พฤษภาคม</td>\n",
              "    </tr>\n",
              "    <tr>\n",
              "      <th>1953</th>\n",
              "      <td>เข้า ตรง ไป ที่ โต๊ะ เขียน หนังสือ แล้ว เริ่ม ...</td>\n",
              "      <td>1953</td>\n",
              "      <td>เข้า ตรง ไป ที่ โต๊ะ เขียน หนังสือ  แล้ว เริ่ม...</td>\n",
              "    </tr>\n",
              "    <tr>\n",
              "      <th>280</th>\n",
              "      <td>มัน ช่าง เป็น โลก ที่ ไม่ ยุติธรรม เลย</td>\n",
              "      <td>280</td>\n",
              "      <td>มัน ช่าง เป็น โลค ที่ ไม่ ยุติธรรม เลย</td>\n",
              "    </tr>\n",
              "    <tr>\n",
              "      <th>93</th>\n",
              "      <td>คน ไทย ควร ร่วมใจ กัน ส่งเสริม บรรดา สินค้า ไทย</td>\n",
              "      <td>93</td>\n",
              "      <td>คน ไทย ควร ร่มใจ กันส่งเสริม บรรดา สินค้า ไทย</td>\n",
              "    </tr>\n",
              "    <tr>\n",
              "      <th>2014</th>\n",
              "      <td>มนุษยชาติ ได้ เรียนรู้ ที่ จะ เปลี่ยนแปลง มา น...</td>\n",
              "      <td>2014</td>\n",
              "      <td>มนุษยชาติ ได้ เรียญรู้ ที่ จะ เปลี่ยนแปลง มา น...</td>\n",
              "    </tr>\n",
              "    <tr>\n",
              "      <th>1478</th>\n",
              "      <td>ตอน ที่ เขา นอน หลับ ไป ฉัน ยืน ขึ้น แล้ว เลิก...</td>\n",
              "      <td>1478</td>\n",
              "      <td>ตอน ที่ เข้า หลับ ไป  ฉัน ยืน ขึ้น แล้ว เลือก ...</td>\n",
              "    </tr>\n",
              "    <tr>\n",
              "      <th>1524</th>\n",
              "      <td>ไม่ จำเป็น ต้อง ใช้ เสียง นั้น</td>\n",
              "      <td>1524</td>\n",
              "      <td>ไม่ จำเป็น ต้อง ใช้ เสียง นั้น</td>\n",
              "    </tr>\n",
              "    <tr>\n",
              "      <th>26</th>\n",
              "      <td>สิ่ง นี้ เหมาะ กับ คน ที่ ทาน มังสวิรัติ ไหม</td>\n",
              "      <td>26</td>\n",
              "      <td>จิง นี้ เหมาะ กับ คน ที่ ทาน มังใส่รัส ไหม</td>\n",
              "    </tr>\n",
              "    <tr>\n",
              "      <th>1901</th>\n",
              "      <td>คุณ ต้อง จำ ไว้ ว่า ฉลาม ของ แอง เจลา มี พฤติก...</td>\n",
              "      <td>1901</td>\n",
              "      <td>คุณ ต้องจำ ไม่ว่า  ฉลาม ของ แองเจอร่า มี พฤติก...</td>\n",
              "    </tr>\n",
              "    <tr>\n",
              "      <th>1991</th>\n",
              "      <td>ฉัน ไม่ รู้สึก โกรธ ใน กรณี ของ ฉัน</td>\n",
              "      <td>1991</td>\n",
              "      <td>ฉัน ไม่ รู้ สะกรวด ใน กรณี ของ ฉัน</td>\n",
              "    </tr>\n",
              "    <tr>\n",
              "      <th>1716</th>\n",
              "      <td>จาก การ ทดสอบ ประสิทธิภาพ  ได้ นำ ไป ใช้ กับ ผ...</td>\n",
              "      <td>1716</td>\n",
              "      <td>จาก การ ทดสอบ ประสิทธิภาพ ได้ นำ ไป ใช้ กับ ผู...</td>\n",
              "    </tr>\n",
              "  </tbody>\n",
              "</table>\n",
              "</div>\n",
              "      <button class=\"colab-df-convert\" onclick=\"convertToInteractive('df-f0a17e3d-08a7-48c4-938c-5880eda46b11')\"\n",
              "              title=\"Convert this dataframe to an interactive table.\"\n",
              "              style=\"display:none;\">\n",
              "        \n",
              "  <svg xmlns=\"http://www.w3.org/2000/svg\" height=\"24px\"viewBox=\"0 0 24 24\"\n",
              "       width=\"24px\">\n",
              "    <path d=\"M0 0h24v24H0V0z\" fill=\"none\"/>\n",
              "    <path d=\"M18.56 5.44l.94 2.06.94-2.06 2.06-.94-2.06-.94-.94-2.06-.94 2.06-2.06.94zm-11 1L8.5 8.5l.94-2.06 2.06-.94-2.06-.94L8.5 2.5l-.94 2.06-2.06.94zm10 10l.94 2.06.94-2.06 2.06-.94-2.06-.94-.94-2.06-.94 2.06-2.06.94z\"/><path d=\"M17.41 7.96l-1.37-1.37c-.4-.4-.92-.59-1.43-.59-.52 0-1.04.2-1.43.59L10.3 9.45l-7.72 7.72c-.78.78-.78 2.05 0 2.83L4 21.41c.39.39.9.59 1.41.59.51 0 1.02-.2 1.41-.59l7.78-7.78 2.81-2.81c.8-.78.8-2.07 0-2.86zM5.41 20L4 18.59l7.72-7.72 1.47 1.35L5.41 20z\"/>\n",
              "  </svg>\n",
              "      </button>\n",
              "      \n",
              "  <style>\n",
              "    .colab-df-container {\n",
              "      display:flex;\n",
              "      flex-wrap:wrap;\n",
              "      gap: 12px;\n",
              "    }\n",
              "\n",
              "    .colab-df-convert {\n",
              "      background-color: #E8F0FE;\n",
              "      border: none;\n",
              "      border-radius: 50%;\n",
              "      cursor: pointer;\n",
              "      display: none;\n",
              "      fill: #1967D2;\n",
              "      height: 32px;\n",
              "      padding: 0 0 0 0;\n",
              "      width: 32px;\n",
              "    }\n",
              "\n",
              "    .colab-df-convert:hover {\n",
              "      background-color: #E2EBFA;\n",
              "      box-shadow: 0px 1px 2px rgba(60, 64, 67, 0.3), 0px 1px 3px 1px rgba(60, 64, 67, 0.15);\n",
              "      fill: #174EA6;\n",
              "    }\n",
              "\n",
              "    [theme=dark] .colab-df-convert {\n",
              "      background-color: #3B4455;\n",
              "      fill: #D2E3FC;\n",
              "    }\n",
              "\n",
              "    [theme=dark] .colab-df-convert:hover {\n",
              "      background-color: #434B5C;\n",
              "      box-shadow: 0px 1px 3px 1px rgba(0, 0, 0, 0.15);\n",
              "      filter: drop-shadow(0px 1px 2px rgba(0, 0, 0, 0.3));\n",
              "      fill: #FFFFFF;\n",
              "    }\n",
              "  </style>\n",
              "\n",
              "      <script>\n",
              "        const buttonEl =\n",
              "          document.querySelector('#df-f0a17e3d-08a7-48c4-938c-5880eda46b11 button.colab-df-convert');\n",
              "        buttonEl.style.display =\n",
              "          google.colab.kernel.accessAllowed ? 'block' : 'none';\n",
              "\n",
              "        async function convertToInteractive(key) {\n",
              "          const element = document.querySelector('#df-f0a17e3d-08a7-48c4-938c-5880eda46b11');\n",
              "          const dataTable =\n",
              "            await google.colab.kernel.invokeFunction('convertToInteractive',\n",
              "                                                     [key], {});\n",
              "          if (!dataTable) return;\n",
              "\n",
              "          const docLinkHtml = 'Like what you see? Visit the ' +\n",
              "            '<a target=\"_blank\" href=https://colab.research.google.com/notebooks/data_table.ipynb>data table notebook</a>'\n",
              "            + ' to learn more about interactive tables.';\n",
              "          element.innerHTML = '';\n",
              "          dataTable['output_type'] = 'display_data';\n",
              "          await google.colab.output.renderOutput(dataTable, element);\n",
              "          const docLink = document.createElement('div');\n",
              "          docLink.innerHTML = docLinkHtml;\n",
              "          element.appendChild(docLink);\n",
              "        }\n",
              "      </script>\n",
              "    </div>\n",
              "  </div>\n",
              "  "
            ],
            "text/plain": [
              "                                    tokenized_sentences  Unnamed: 0  \\\n",
              "358                                อย่า ทำ เสียง ดัง นะ         358   \n",
              "1618                     กระตุก เชือก และ ส่งทอง ออก ไป        1618   \n",
              "1507                    คุณ ต้อง ตอบ ว่า มี ความ สุข ดี        1507   \n",
              "840                                 แบบ นี้ จะ ท้อง ไหม         840   \n",
              "161                   แต่ ทรัพยากร ของ ฉัน กำลัง จะ หมด         161   \n",
              "156      ที่ รัก  มัน คือ คำ ถาม ที่ อยู่ ใน ใจ ของ คุณ         156   \n",
              "464              ฉัน กำลัง มี อาการ บาดเจ็บ ที่ ข้อ ต่อ         464   \n",
              "2073     การ บัญชี เป็น ชื่อ ของ อาชีพ สำหรับ นัก บัญชี        2073   \n",
              "1982                           ป้า ของ ฉัน กำลัง ทำ งาน        1982   \n",
              "585       เรา จะ ออก นอก เมือง มาก สุด ใน เดือน พฤษภาคม         585   \n",
              "1953  เข้า ตรง ไป ที่ โต๊ะ เขียน หนังสือ แล้ว เริ่ม ...        1953   \n",
              "280              มัน ช่าง เป็น โลก ที่ ไม่ ยุติธรรม เลย         280   \n",
              "93      คน ไทย ควร ร่วมใจ กัน ส่งเสริม บรรดา สินค้า ไทย          93   \n",
              "2014  มนุษยชาติ ได้ เรียนรู้ ที่ จะ เปลี่ยนแปลง มา น...        2014   \n",
              "1478  ตอน ที่ เขา นอน หลับ ไป ฉัน ยืน ขึ้น แล้ว เลิก...        1478   \n",
              "1524                     ไม่ จำเป็น ต้อง ใช้ เสียง นั้น        1524   \n",
              "26         สิ่ง นี้ เหมาะ กับ คน ที่ ทาน มังสวิรัติ ไหม          26   \n",
              "1901  คุณ ต้อง จำ ไว้ ว่า ฉลาม ของ แอง เจลา มี พฤติก...        1901   \n",
              "1991                ฉัน ไม่ รู้สึก โกรธ ใน กรณี ของ ฉัน        1991   \n",
              "1716  จาก การ ทดสอบ ประสิทธิภาพ  ได้ นำ ไป ใช้ กับ ผ...        1716   \n",
              "\n",
              "                                         transcriptions  \n",
              "358                                อย่า ทำ เสียง ดัง นะ  \n",
              "1618                    กระตุก เชือก และ ส่ง ทอง ออก ไป  \n",
              "1507                    คุณ ต้อง ตอบ ว่า มี ความ สุข ดี  \n",
              "840                                 แบบ นี้ จะ ท้อง ไหม  \n",
              "161                   แต่ ทรัพยากร ของ ฉัน กำลัง จะ หมด  \n",
              "156      ที่ รัก  มัน คือ คำ ถาม ที่ อยู่ ใน ใจ ของ คุณ  \n",
              "464              ฉัน กำลัง มี อาการ บาดเจ็บ ที่ ข้อ ต่อ  \n",
              "2073          การ บัญชี นึ ชื่อ ของ มาชีพ สุบานัก บัญชี  \n",
              "1982                            ตา ของ ฉัน กำลัง ทำ งาน  \n",
              "585       เรา จะ ออก นอก เมือง มาก สุด ใน เดือน พฤษภาคม  \n",
              "1953  เข้า ตรง ไป ที่ โต๊ะ เขียน หนังสือ  แล้ว เริ่ม...  \n",
              "280              มัน ช่าง เป็น โลค ที่ ไม่ ยุติธรรม เลย  \n",
              "93        คน ไทย ควร ร่มใจ กันส่งเสริม บรรดา สินค้า ไทย  \n",
              "2014  มนุษยชาติ ได้ เรียญรู้ ที่ จะ เปลี่ยนแปลง มา น...  \n",
              "1478  ตอน ที่ เข้า หลับ ไป  ฉัน ยืน ขึ้น แล้ว เลือก ...  \n",
              "1524                     ไม่ จำเป็น ต้อง ใช้ เสียง นั้น  \n",
              "26           จิง นี้ เหมาะ กับ คน ที่ ทาน มังใส่รัส ไหม  \n",
              "1901  คุณ ต้องจำ ไม่ว่า  ฉลาม ของ แองเจอร่า มี พฤติก...  \n",
              "1991                 ฉัน ไม่ รู้ สะกรวด ใน กรณี ของ ฉัน  \n",
              "1716  จาก การ ทดสอบ ประสิทธิภาพ ได้ นำ ไป ใช้ กับ ผู...  "
            ]
          },
          "execution_count": 28,
          "metadata": {},
          "output_type": "execute_result"
        }
      ],
      "source": [
        "df_eval.sample(20)"
      ]
    },
    {
      "cell_type": "code",
      "execution_count": null,
      "metadata": {
        "colab": {
          "base_uri": "https://localhost:8080/"
        },
        "id": "hNUT57sx58wY",
        "outputId": "2997d440-d9c4-4215-a5ab-28e449e02660"
      },
      "outputs": [
        {
          "name": "stdout",
          "output_type": "stream",
          "text": [
            "\u001b[2K     \u001b[90m━━━━━━━━━━━━━━━━━━━━━━━━━━━━━━━━━━━━━━━━\u001b[0m \u001b[32m2.2/2.2 MB\u001b[0m \u001b[31m34.1 MB/s\u001b[0m eta \u001b[36m0:00:00\u001b[0m\n",
            "\u001b[2K     \u001b[90m━━━━━━━━━━━━━━━━━━━━━━━━━━━━━━━━━━━━━━━━\u001b[0m \u001b[32m81.4/81.4 kB\u001b[0m \u001b[31m5.1 MB/s\u001b[0m eta \u001b[36m0:00:00\u001b[0m\n",
            "\u001b[?25h"
          ]
        }
      ],
      "source": [
        "!pip install -qq jiwer\n",
        "!pip install -qq evaluate"
      ]
    },
    {
      "cell_type": "code",
      "execution_count": null,
      "metadata": {
        "id": "mJZoyJ5W71Sh"
      },
      "outputs": [],
      "source": [
        "import evaluate"
      ]
    },
    {
      "cell_type": "code",
      "execution_count": null,
      "metadata": {
        "colab": {
          "base_uri": "https://localhost:8080/",
          "height": 49,
          "referenced_widgets": [
            "d0769c841b0a4f549232ad15804547d3",
            "c2c9181db04e49c4ad417ff6b2403665",
            "41dc960b51224411a964f810c5aa0eb8",
            "4eeb149bd4a6452f8b4f3cde720180e9",
            "2e2ac712efb7425eaa49cc9a4b0bf72d",
            "adac42898a8e46f3aa9522183b69471a",
            "ce7184643276416286bec4d1e5978361",
            "3e2deb82c6fd43a5b71adae04e3d7630",
            "7a67fe39d76a460281e8b987fbf60ce4",
            "df12d1ae47ee4db1a22ce54c878f3d23",
            "87d84a8567484afc98040312431f6308"
          ]
        },
        "id": "un_4TOKL5xRo",
        "outputId": "3f187046-4f23-4a1c-dfbe-dd6f67ff613c"
      },
      "outputs": [],
      "source": [
        "wer_metric = evaluate.load(\"wer\")"
      ]
    },
    {
      "cell_type": "code",
      "execution_count": null,
      "metadata": {
        "colab": {
          "base_uri": "https://localhost:8080/"
        },
        "id": "q7OzxblI5exf",
        "outputId": "7198a175-4070-4433-a49a-2e219c40cd02"
      },
      "outputs": [
        {
          "data": {
            "text/plain": [
              "0.16027721247456136"
            ]
          },
          "execution_count": 32,
          "metadata": {},
          "output_type": "execute_result"
        }
      ],
      "source": [
        "wer_metric.compute(predictions=df_eval['transcriptions'], references=df_eval[\"tokenized_sentences\"])"
      ]
    },
    {
      "cell_type": "code",
      "execution_count": null,
      "metadata": {
        "colab": {
          "base_uri": "https://localhost:8080/",
          "height": 49,
          "referenced_widgets": [
            "157e3b8d80bc4260bead63107cf2b583",
            "66ad6f70e9db4d6eb782f20c8c0c0dae",
            "4e8b59b22ac1449087a0b9f1c6478cac",
            "838dc27c6ce849cba9ba91a0cfbc7e1c",
            "54b818ce09024b61b2c8e141f1fcd324",
            "fad502f0e3a44280b7103b65bf7c3934",
            "fc71a9d14ae24b628d573742fdaa8587",
            "d92f6e03895347d4878b84d909994f1d",
            "0684b9b737a34c859888239c6c8b97a7",
            "8d47efd1afd34d24a061a0ec657b7cae",
            "5934d965a6a24b9ca9531a72dbef71bf"
          ]
        },
        "id": "4DsidJO0m4Xv",
        "outputId": "720b2bb9-ccd0-45c8-c6b6-b8e3e74ce306"
      },
      "outputs": [],
      "source": [
        "cer_metric = evaluate.load(\"cer\")"
      ]
    },
    {
      "cell_type": "code",
      "execution_count": null,
      "metadata": {
        "id": "fiz7i1Cnm7JT"
      },
      "outputs": [],
      "source": [
        "df_eval['tokenized_sentences']= df_eval['tokenized_sentences'].apply(lambda x : x.replace(' ',''))\n",
        "df_eval['transcriptions']= df_eval['transcriptions'].apply(lambda x : x.replace(' ',''))"
      ]
    },
    {
      "cell_type": "code",
      "execution_count": null,
      "metadata": {
        "colab": {
          "base_uri": "https://localhost:8080/"
        },
        "id": "37ZwZWEXm_Ug",
        "outputId": "bcd4d3d1-0135-4fa0-bc96-1bef0379146b"
      },
      "outputs": [
        {
          "data": {
            "text/plain": [
              "0.0478111936832327"
            ]
          },
          "execution_count": 35,
          "metadata": {},
          "output_type": "execute_result"
        }
      ],
      "source": [
        "cer_metric.compute(predictions=df_eval.transcriptions,references=df_eval.tokenized_sentences)"
      ]
    }
  ],
  "metadata": {
    "accelerator": "GPU",
    "colab": {
      "provenance": []
    },
    "kernelspec": {
      "display_name": "Python 3",
      "name": "python3"
    },
    "language_info": {
      "name": "python"
    },
    "widgets": {
      "application/vnd.jupyter.widget-state+json": {
        "0684b9b737a34c859888239c6c8b97a7": {
          "model_module": "@jupyter-widgets/controls",
          "model_module_version": "1.5.0",
          "model_name": "ProgressStyleModel",
          "state": {
            "_model_module": "@jupyter-widgets/controls",
            "_model_module_version": "1.5.0",
            "_model_name": "ProgressStyleModel",
            "_view_count": null,
            "_view_module": "@jupyter-widgets/base",
            "_view_module_version": "1.2.0",
            "_view_name": "StyleView",
            "bar_color": null,
            "description_width": ""
          }
        },
        "157e3b8d80bc4260bead63107cf2b583": {
          "model_module": "@jupyter-widgets/controls",
          "model_module_version": "1.5.0",
          "model_name": "HBoxModel",
          "state": {
            "_dom_classes": [],
            "_model_module": "@jupyter-widgets/controls",
            "_model_module_version": "1.5.0",
            "_model_name": "HBoxModel",
            "_view_count": null,
            "_view_module": "@jupyter-widgets/controls",
            "_view_module_version": "1.5.0",
            "_view_name": "HBoxView",
            "box_style": "",
            "children": [
              "IPY_MODEL_66ad6f70e9db4d6eb782f20c8c0c0dae",
              "IPY_MODEL_4e8b59b22ac1449087a0b9f1c6478cac",
              "IPY_MODEL_838dc27c6ce849cba9ba91a0cfbc7e1c"
            ],
            "layout": "IPY_MODEL_54b818ce09024b61b2c8e141f1fcd324"
          }
        },
        "2e2ac712efb7425eaa49cc9a4b0bf72d": {
          "model_module": "@jupyter-widgets/base",
          "model_module_version": "1.2.0",
          "model_name": "LayoutModel",
          "state": {
            "_model_module": "@jupyter-widgets/base",
            "_model_module_version": "1.2.0",
            "_model_name": "LayoutModel",
            "_view_count": null,
            "_view_module": "@jupyter-widgets/base",
            "_view_module_version": "1.2.0",
            "_view_name": "LayoutView",
            "align_content": null,
            "align_items": null,
            "align_self": null,
            "border": null,
            "bottom": null,
            "display": null,
            "flex": null,
            "flex_flow": null,
            "grid_area": null,
            "grid_auto_columns": null,
            "grid_auto_flow": null,
            "grid_auto_rows": null,
            "grid_column": null,
            "grid_gap": null,
            "grid_row": null,
            "grid_template_areas": null,
            "grid_template_columns": null,
            "grid_template_rows": null,
            "height": null,
            "justify_content": null,
            "justify_items": null,
            "left": null,
            "margin": null,
            "max_height": null,
            "max_width": null,
            "min_height": null,
            "min_width": null,
            "object_fit": null,
            "object_position": null,
            "order": null,
            "overflow": null,
            "overflow_x": null,
            "overflow_y": null,
            "padding": null,
            "right": null,
            "top": null,
            "visibility": null,
            "width": null
          }
        },
        "3e2deb82c6fd43a5b71adae04e3d7630": {
          "model_module": "@jupyter-widgets/base",
          "model_module_version": "1.2.0",
          "model_name": "LayoutModel",
          "state": {
            "_model_module": "@jupyter-widgets/base",
            "_model_module_version": "1.2.0",
            "_model_name": "LayoutModel",
            "_view_count": null,
            "_view_module": "@jupyter-widgets/base",
            "_view_module_version": "1.2.0",
            "_view_name": "LayoutView",
            "align_content": null,
            "align_items": null,
            "align_self": null,
            "border": null,
            "bottom": null,
            "display": null,
            "flex": null,
            "flex_flow": null,
            "grid_area": null,
            "grid_auto_columns": null,
            "grid_auto_flow": null,
            "grid_auto_rows": null,
            "grid_column": null,
            "grid_gap": null,
            "grid_row": null,
            "grid_template_areas": null,
            "grid_template_columns": null,
            "grid_template_rows": null,
            "height": null,
            "justify_content": null,
            "justify_items": null,
            "left": null,
            "margin": null,
            "max_height": null,
            "max_width": null,
            "min_height": null,
            "min_width": null,
            "object_fit": null,
            "object_position": null,
            "order": null,
            "overflow": null,
            "overflow_x": null,
            "overflow_y": null,
            "padding": null,
            "right": null,
            "top": null,
            "visibility": null,
            "width": null
          }
        },
        "41dc960b51224411a964f810c5aa0eb8": {
          "model_module": "@jupyter-widgets/controls",
          "model_module_version": "1.5.0",
          "model_name": "FloatProgressModel",
          "state": {
            "_dom_classes": [],
            "_model_module": "@jupyter-widgets/controls",
            "_model_module_version": "1.5.0",
            "_model_name": "FloatProgressModel",
            "_view_count": null,
            "_view_module": "@jupyter-widgets/controls",
            "_view_module_version": "1.5.0",
            "_view_name": "ProgressView",
            "bar_style": "success",
            "description": "",
            "description_tooltip": null,
            "layout": "IPY_MODEL_3e2deb82c6fd43a5b71adae04e3d7630",
            "max": 4485,
            "min": 0,
            "orientation": "horizontal",
            "style": "IPY_MODEL_7a67fe39d76a460281e8b987fbf60ce4",
            "value": 4485
          }
        },
        "4e8b59b22ac1449087a0b9f1c6478cac": {
          "model_module": "@jupyter-widgets/controls",
          "model_module_version": "1.5.0",
          "model_name": "FloatProgressModel",
          "state": {
            "_dom_classes": [],
            "_model_module": "@jupyter-widgets/controls",
            "_model_module_version": "1.5.0",
            "_model_name": "FloatProgressModel",
            "_view_count": null,
            "_view_module": "@jupyter-widgets/controls",
            "_view_module_version": "1.5.0",
            "_view_name": "ProgressView",
            "bar_style": "success",
            "description": "",
            "description_tooltip": null,
            "layout": "IPY_MODEL_d92f6e03895347d4878b84d909994f1d",
            "max": 5599,
            "min": 0,
            "orientation": "horizontal",
            "style": "IPY_MODEL_0684b9b737a34c859888239c6c8b97a7",
            "value": 5599
          }
        },
        "4eeb149bd4a6452f8b4f3cde720180e9": {
          "model_module": "@jupyter-widgets/controls",
          "model_module_version": "1.5.0",
          "model_name": "HTMLModel",
          "state": {
            "_dom_classes": [],
            "_model_module": "@jupyter-widgets/controls",
            "_model_module_version": "1.5.0",
            "_model_name": "HTMLModel",
            "_view_count": null,
            "_view_module": "@jupyter-widgets/controls",
            "_view_module_version": "1.5.0",
            "_view_name": "HTMLView",
            "description": "",
            "description_tooltip": null,
            "layout": "IPY_MODEL_df12d1ae47ee4db1a22ce54c878f3d23",
            "placeholder": "​",
            "style": "IPY_MODEL_87d84a8567484afc98040312431f6308",
            "value": " 4.49k/4.49k [00:00&lt;00:00, 300kB/s]"
          }
        },
        "54b818ce09024b61b2c8e141f1fcd324": {
          "model_module": "@jupyter-widgets/base",
          "model_module_version": "1.2.0",
          "model_name": "LayoutModel",
          "state": {
            "_model_module": "@jupyter-widgets/base",
            "_model_module_version": "1.2.0",
            "_model_name": "LayoutModel",
            "_view_count": null,
            "_view_module": "@jupyter-widgets/base",
            "_view_module_version": "1.2.0",
            "_view_name": "LayoutView",
            "align_content": null,
            "align_items": null,
            "align_self": null,
            "border": null,
            "bottom": null,
            "display": null,
            "flex": null,
            "flex_flow": null,
            "grid_area": null,
            "grid_auto_columns": null,
            "grid_auto_flow": null,
            "grid_auto_rows": null,
            "grid_column": null,
            "grid_gap": null,
            "grid_row": null,
            "grid_template_areas": null,
            "grid_template_columns": null,
            "grid_template_rows": null,
            "height": null,
            "justify_content": null,
            "justify_items": null,
            "left": null,
            "margin": null,
            "max_height": null,
            "max_width": null,
            "min_height": null,
            "min_width": null,
            "object_fit": null,
            "object_position": null,
            "order": null,
            "overflow": null,
            "overflow_x": null,
            "overflow_y": null,
            "padding": null,
            "right": null,
            "top": null,
            "visibility": null,
            "width": null
          }
        },
        "5934d965a6a24b9ca9531a72dbef71bf": {
          "model_module": "@jupyter-widgets/controls",
          "model_module_version": "1.5.0",
          "model_name": "DescriptionStyleModel",
          "state": {
            "_model_module": "@jupyter-widgets/controls",
            "_model_module_version": "1.5.0",
            "_model_name": "DescriptionStyleModel",
            "_view_count": null,
            "_view_module": "@jupyter-widgets/base",
            "_view_module_version": "1.2.0",
            "_view_name": "StyleView",
            "description_width": ""
          }
        },
        "66ad6f70e9db4d6eb782f20c8c0c0dae": {
          "model_module": "@jupyter-widgets/controls",
          "model_module_version": "1.5.0",
          "model_name": "HTMLModel",
          "state": {
            "_dom_classes": [],
            "_model_module": "@jupyter-widgets/controls",
            "_model_module_version": "1.5.0",
            "_model_name": "HTMLModel",
            "_view_count": null,
            "_view_module": "@jupyter-widgets/controls",
            "_view_module_version": "1.5.0",
            "_view_name": "HTMLView",
            "description": "",
            "description_tooltip": null,
            "layout": "IPY_MODEL_fad502f0e3a44280b7103b65bf7c3934",
            "placeholder": "​",
            "style": "IPY_MODEL_fc71a9d14ae24b628d573742fdaa8587",
            "value": "Downloading builder script: 100%"
          }
        },
        "7a67fe39d76a460281e8b987fbf60ce4": {
          "model_module": "@jupyter-widgets/controls",
          "model_module_version": "1.5.0",
          "model_name": "ProgressStyleModel",
          "state": {
            "_model_module": "@jupyter-widgets/controls",
            "_model_module_version": "1.5.0",
            "_model_name": "ProgressStyleModel",
            "_view_count": null,
            "_view_module": "@jupyter-widgets/base",
            "_view_module_version": "1.2.0",
            "_view_name": "StyleView",
            "bar_color": null,
            "description_width": ""
          }
        },
        "838dc27c6ce849cba9ba91a0cfbc7e1c": {
          "model_module": "@jupyter-widgets/controls",
          "model_module_version": "1.5.0",
          "model_name": "HTMLModel",
          "state": {
            "_dom_classes": [],
            "_model_module": "@jupyter-widgets/controls",
            "_model_module_version": "1.5.0",
            "_model_name": "HTMLModel",
            "_view_count": null,
            "_view_module": "@jupyter-widgets/controls",
            "_view_module_version": "1.5.0",
            "_view_name": "HTMLView",
            "description": "",
            "description_tooltip": null,
            "layout": "IPY_MODEL_8d47efd1afd34d24a061a0ec657b7cae",
            "placeholder": "​",
            "style": "IPY_MODEL_5934d965a6a24b9ca9531a72dbef71bf",
            "value": " 5.60k/5.60k [00:00&lt;00:00, 250kB/s]"
          }
        },
        "87d84a8567484afc98040312431f6308": {
          "model_module": "@jupyter-widgets/controls",
          "model_module_version": "1.5.0",
          "model_name": "DescriptionStyleModel",
          "state": {
            "_model_module": "@jupyter-widgets/controls",
            "_model_module_version": "1.5.0",
            "_model_name": "DescriptionStyleModel",
            "_view_count": null,
            "_view_module": "@jupyter-widgets/base",
            "_view_module_version": "1.2.0",
            "_view_name": "StyleView",
            "description_width": ""
          }
        },
        "8d47efd1afd34d24a061a0ec657b7cae": {
          "model_module": "@jupyter-widgets/base",
          "model_module_version": "1.2.0",
          "model_name": "LayoutModel",
          "state": {
            "_model_module": "@jupyter-widgets/base",
            "_model_module_version": "1.2.0",
            "_model_name": "LayoutModel",
            "_view_count": null,
            "_view_module": "@jupyter-widgets/base",
            "_view_module_version": "1.2.0",
            "_view_name": "LayoutView",
            "align_content": null,
            "align_items": null,
            "align_self": null,
            "border": null,
            "bottom": null,
            "display": null,
            "flex": null,
            "flex_flow": null,
            "grid_area": null,
            "grid_auto_columns": null,
            "grid_auto_flow": null,
            "grid_auto_rows": null,
            "grid_column": null,
            "grid_gap": null,
            "grid_row": null,
            "grid_template_areas": null,
            "grid_template_columns": null,
            "grid_template_rows": null,
            "height": null,
            "justify_content": null,
            "justify_items": null,
            "left": null,
            "margin": null,
            "max_height": null,
            "max_width": null,
            "min_height": null,
            "min_width": null,
            "object_fit": null,
            "object_position": null,
            "order": null,
            "overflow": null,
            "overflow_x": null,
            "overflow_y": null,
            "padding": null,
            "right": null,
            "top": null,
            "visibility": null,
            "width": null
          }
        },
        "adac42898a8e46f3aa9522183b69471a": {
          "model_module": "@jupyter-widgets/base",
          "model_module_version": "1.2.0",
          "model_name": "LayoutModel",
          "state": {
            "_model_module": "@jupyter-widgets/base",
            "_model_module_version": "1.2.0",
            "_model_name": "LayoutModel",
            "_view_count": null,
            "_view_module": "@jupyter-widgets/base",
            "_view_module_version": "1.2.0",
            "_view_name": "LayoutView",
            "align_content": null,
            "align_items": null,
            "align_self": null,
            "border": null,
            "bottom": null,
            "display": null,
            "flex": null,
            "flex_flow": null,
            "grid_area": null,
            "grid_auto_columns": null,
            "grid_auto_flow": null,
            "grid_auto_rows": null,
            "grid_column": null,
            "grid_gap": null,
            "grid_row": null,
            "grid_template_areas": null,
            "grid_template_columns": null,
            "grid_template_rows": null,
            "height": null,
            "justify_content": null,
            "justify_items": null,
            "left": null,
            "margin": null,
            "max_height": null,
            "max_width": null,
            "min_height": null,
            "min_width": null,
            "object_fit": null,
            "object_position": null,
            "order": null,
            "overflow": null,
            "overflow_x": null,
            "overflow_y": null,
            "padding": null,
            "right": null,
            "top": null,
            "visibility": null,
            "width": null
          }
        },
        "c2c9181db04e49c4ad417ff6b2403665": {
          "model_module": "@jupyter-widgets/controls",
          "model_module_version": "1.5.0",
          "model_name": "HTMLModel",
          "state": {
            "_dom_classes": [],
            "_model_module": "@jupyter-widgets/controls",
            "_model_module_version": "1.5.0",
            "_model_name": "HTMLModel",
            "_view_count": null,
            "_view_module": "@jupyter-widgets/controls",
            "_view_module_version": "1.5.0",
            "_view_name": "HTMLView",
            "description": "",
            "description_tooltip": null,
            "layout": "IPY_MODEL_adac42898a8e46f3aa9522183b69471a",
            "placeholder": "​",
            "style": "IPY_MODEL_ce7184643276416286bec4d1e5978361",
            "value": "Downloading builder script: 100%"
          }
        },
        "ce7184643276416286bec4d1e5978361": {
          "model_module": "@jupyter-widgets/controls",
          "model_module_version": "1.5.0",
          "model_name": "DescriptionStyleModel",
          "state": {
            "_model_module": "@jupyter-widgets/controls",
            "_model_module_version": "1.5.0",
            "_model_name": "DescriptionStyleModel",
            "_view_count": null,
            "_view_module": "@jupyter-widgets/base",
            "_view_module_version": "1.2.0",
            "_view_name": "StyleView",
            "description_width": ""
          }
        },
        "d0769c841b0a4f549232ad15804547d3": {
          "model_module": "@jupyter-widgets/controls",
          "model_module_version": "1.5.0",
          "model_name": "HBoxModel",
          "state": {
            "_dom_classes": [],
            "_model_module": "@jupyter-widgets/controls",
            "_model_module_version": "1.5.0",
            "_model_name": "HBoxModel",
            "_view_count": null,
            "_view_module": "@jupyter-widgets/controls",
            "_view_module_version": "1.5.0",
            "_view_name": "HBoxView",
            "box_style": "",
            "children": [
              "IPY_MODEL_c2c9181db04e49c4ad417ff6b2403665",
              "IPY_MODEL_41dc960b51224411a964f810c5aa0eb8",
              "IPY_MODEL_4eeb149bd4a6452f8b4f3cde720180e9"
            ],
            "layout": "IPY_MODEL_2e2ac712efb7425eaa49cc9a4b0bf72d"
          }
        },
        "d92f6e03895347d4878b84d909994f1d": {
          "model_module": "@jupyter-widgets/base",
          "model_module_version": "1.2.0",
          "model_name": "LayoutModel",
          "state": {
            "_model_module": "@jupyter-widgets/base",
            "_model_module_version": "1.2.0",
            "_model_name": "LayoutModel",
            "_view_count": null,
            "_view_module": "@jupyter-widgets/base",
            "_view_module_version": "1.2.0",
            "_view_name": "LayoutView",
            "align_content": null,
            "align_items": null,
            "align_self": null,
            "border": null,
            "bottom": null,
            "display": null,
            "flex": null,
            "flex_flow": null,
            "grid_area": null,
            "grid_auto_columns": null,
            "grid_auto_flow": null,
            "grid_auto_rows": null,
            "grid_column": null,
            "grid_gap": null,
            "grid_row": null,
            "grid_template_areas": null,
            "grid_template_columns": null,
            "grid_template_rows": null,
            "height": null,
            "justify_content": null,
            "justify_items": null,
            "left": null,
            "margin": null,
            "max_height": null,
            "max_width": null,
            "min_height": null,
            "min_width": null,
            "object_fit": null,
            "object_position": null,
            "order": null,
            "overflow": null,
            "overflow_x": null,
            "overflow_y": null,
            "padding": null,
            "right": null,
            "top": null,
            "visibility": null,
            "width": null
          }
        },
        "df12d1ae47ee4db1a22ce54c878f3d23": {
          "model_module": "@jupyter-widgets/base",
          "model_module_version": "1.2.0",
          "model_name": "LayoutModel",
          "state": {
            "_model_module": "@jupyter-widgets/base",
            "_model_module_version": "1.2.0",
            "_model_name": "LayoutModel",
            "_view_count": null,
            "_view_module": "@jupyter-widgets/base",
            "_view_module_version": "1.2.0",
            "_view_name": "LayoutView",
            "align_content": null,
            "align_items": null,
            "align_self": null,
            "border": null,
            "bottom": null,
            "display": null,
            "flex": null,
            "flex_flow": null,
            "grid_area": null,
            "grid_auto_columns": null,
            "grid_auto_flow": null,
            "grid_auto_rows": null,
            "grid_column": null,
            "grid_gap": null,
            "grid_row": null,
            "grid_template_areas": null,
            "grid_template_columns": null,
            "grid_template_rows": null,
            "height": null,
            "justify_content": null,
            "justify_items": null,
            "left": null,
            "margin": null,
            "max_height": null,
            "max_width": null,
            "min_height": null,
            "min_width": null,
            "object_fit": null,
            "object_position": null,
            "order": null,
            "overflow": null,
            "overflow_x": null,
            "overflow_y": null,
            "padding": null,
            "right": null,
            "top": null,
            "visibility": null,
            "width": null
          }
        },
        "fad502f0e3a44280b7103b65bf7c3934": {
          "model_module": "@jupyter-widgets/base",
          "model_module_version": "1.2.0",
          "model_name": "LayoutModel",
          "state": {
            "_model_module": "@jupyter-widgets/base",
            "_model_module_version": "1.2.0",
            "_model_name": "LayoutModel",
            "_view_count": null,
            "_view_module": "@jupyter-widgets/base",
            "_view_module_version": "1.2.0",
            "_view_name": "LayoutView",
            "align_content": null,
            "align_items": null,
            "align_self": null,
            "border": null,
            "bottom": null,
            "display": null,
            "flex": null,
            "flex_flow": null,
            "grid_area": null,
            "grid_auto_columns": null,
            "grid_auto_flow": null,
            "grid_auto_rows": null,
            "grid_column": null,
            "grid_gap": null,
            "grid_row": null,
            "grid_template_areas": null,
            "grid_template_columns": null,
            "grid_template_rows": null,
            "height": null,
            "justify_content": null,
            "justify_items": null,
            "left": null,
            "margin": null,
            "max_height": null,
            "max_width": null,
            "min_height": null,
            "min_width": null,
            "object_fit": null,
            "object_position": null,
            "order": null,
            "overflow": null,
            "overflow_x": null,
            "overflow_y": null,
            "padding": null,
            "right": null,
            "top": null,
            "visibility": null,
            "width": null
          }
        },
        "fc71a9d14ae24b628d573742fdaa8587": {
          "model_module": "@jupyter-widgets/controls",
          "model_module_version": "1.5.0",
          "model_name": "DescriptionStyleModel",
          "state": {
            "_model_module": "@jupyter-widgets/controls",
            "_model_module_version": "1.5.0",
            "_model_name": "DescriptionStyleModel",
            "_view_count": null,
            "_view_module": "@jupyter-widgets/base",
            "_view_module_version": "1.2.0",
            "_view_name": "StyleView",
            "description_width": ""
          }
        }
      }
    }
  },
  "nbformat": 4,
  "nbformat_minor": 0
}
